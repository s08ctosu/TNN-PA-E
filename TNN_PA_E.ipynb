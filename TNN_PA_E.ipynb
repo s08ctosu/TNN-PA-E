{
  "nbformat": 4,
  "nbformat_minor": 0,
  "metadata": {
    "colab": {
      "provenance": []
    },
    "kernelspec": {
      "name": "python3",
      "display_name": "Python 3"
    },
    "language_info": {
      "name": "python"
    }
  },
  "cells": [
    {
      "cell_type": "markdown",
      "source": [
        "Technical Neural Networks\n",
        "\n",
        "WS 2024/25\n",
        "\n",
        "Assignment Group A\n",
        "\n",
        "Can Tosun (2792747), Christopher Overdiek (3122952),\n",
        "Zyad Altahan (50238152), Isra Zaman (50203794)\n",
        "\n",
        "Programming Assignment E"
      ],
      "metadata": {
        "id": "VAQceiomP54Y"
      }
    },
    {
      "cell_type": "code",
      "execution_count": 62,
      "metadata": {
        "id": "keN3vTKnP1Io"
      },
      "outputs": [],
      "source": [
        "import numpy as np\n",
        "import matplotlib.pyplot as plt\n",
        "import fileinput\n",
        "\n",
        "rng = np.random.default_rng()"
      ]
    },
    {
      "cell_type": "code",
      "source": [
        "#Load training data and recall data from file and set size K\n",
        "p = []\n",
        "with fileinput.input(files=\"PA-E_train_1.txt\", encoding=\"utf-8\") as f:\n",
        "    for line in f:\n",
        "        if f.filelineno() > 1:\n",
        "            p.append(list(map(int, line.split())))\n",
        "\n",
        "K = len(p[0])\n",
        "p = np.array(p)\n",
        "\n",
        "with fileinput.input(files=\"PA-E_recall_1.txt\", encoding=\"utf-8\") as f:\n",
        "  it = iter(f)\n",
        "  next(it)\n",
        "  r = list(map(int, next(it).split()))\n",
        "\n",
        "r = np.array(r)"
      ],
      "metadata": {
        "id": "gOWM2TQOGjkO"
      },
      "execution_count": 82,
      "outputs": []
    },
    {
      "cell_type": "code",
      "source": [
        "theta = np.zeros((K))\n",
        "\n",
        "def learn(p):\n",
        "  w = np.zeros((K, K))\n",
        "\n",
        "  for q in p:\n",
        "    v = np.outer(q, q)\n",
        "    np.fill_diagonal(v, 0)\n",
        "    assert np.array_equal(v.T, v) #v is symmetric\n",
        "    w += v\n",
        "\n",
        "  return w\n",
        "\n",
        "def recall(w, input):\n",
        "  X = input\n",
        "  t = 0\n",
        "  for _ in range(1000): #to prevent infinite loop with while(True)\n",
        "    print(f\"X(t = {t}): \", end='')\n",
        "    printOutput(X)\n",
        "    t += 1\n",
        "\n",
        "    Xt_plus1 = X.copy()\n",
        "    for k in np.random.permutation(K): #random order of asynchronous updates\n",
        "      if np.dot(w[k], X) > theta[k]:\n",
        "        Xt_plus1[k] = 1\n",
        "      else:\n",
        "        Xt_plus1[k] = -1\n",
        "    if np.array_equal(Xt_plus1, X):\n",
        "      break\n",
        "    X = Xt_plus1\n",
        "\n",
        "  return X\n",
        "\n",
        "def printOutput(a):\n",
        "  if K < 101:\n",
        "    for i in a:\n",
        "      if i == 1:\n",
        "        print('+', end='') #end='' prevents newline\n",
        "      else:\n",
        "        print('-', end='')\n",
        "    print('')\n",
        "  else:\n",
        "    #print with pyplot\n",
        "    return\n",
        "\n",
        "w = learn(p)\n",
        "result = recall(w, r)\n",
        "print(\"Result: \", end='')\n",
        "printOutput(result)"
      ],
      "metadata": {
        "colab": {
          "base_uri": "https://localhost:8080/"
        },
        "id": "UpiWF-t1QJeP",
        "outputId": "967bc981-8de8-4288-b289-3e6f25d9754f"
      },
      "execution_count": 83,
      "outputs": [
        {
          "output_type": "stream",
          "name": "stdout",
          "text": [
            "X(t = 0): ++-++++---\n",
            "X(t = 1): ++++++++++\n",
            "Result: ++++++++++\n"
          ]
        }
      ]
    }
  ]
}