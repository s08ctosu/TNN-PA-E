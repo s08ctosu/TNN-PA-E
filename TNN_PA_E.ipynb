{
  "nbformat": 4,
  "nbformat_minor": 0,
  "metadata": {
    "colab": {
      "provenance": []
    },
    "kernelspec": {
      "name": "python3",
      "display_name": "Python 3"
    },
    "language_info": {
      "name": "python"
    }
  },
  "cells": [
    {
      "cell_type": "markdown",
      "source": [
        "Technical Neural Networks\n",
        "\n",
        "WS 2024/25\n",
        "\n",
        "Assignment Group A\n",
        "\n",
        "Can Tosun (2792747), Christopher Overdiek (3122952),\n",
        "Zyad Altahan (50238152), Isra Zaman (50203794)\n",
        "\n",
        "Programming Assignment E"
      ],
      "metadata": {
        "id": "VAQceiomP54Y"
      }
    },
    {
      "cell_type": "code",
      "execution_count": 106,
      "metadata": {
        "id": "keN3vTKnP1Io"
      },
      "outputs": [],
      "source": [
        "import numpy as np\n",
        "import matplotlib.pyplot as plt\n",
        "import fileinput\n",
        "\n",
        "rng = np.random.default_rng()"
      ]
    },
    {
      "cell_type": "code",
      "source": [
        "def loadData(trainingFileName, recallingFileName):\n",
        "  p = []\n",
        "  with fileinput.input(files=trainingFileName, encoding=\"utf-8\") as f:\n",
        "      for line in f:\n",
        "          if f.filelineno() > 1:\n",
        "              p.append(list(map(int, line.split())))\n",
        "\n",
        "  p = np.array(p)\n",
        "  assert np.all(np.isin(p, [-1, 1])), \"Input patterns must be bipolar (+1 or -1).\"\n",
        "\n",
        "  with fileinput.input(files=recallingFileName, encoding=\"utf-8\") as f:\n",
        "    it = iter(f)\n",
        "    next(it)\n",
        "    r = list(map(int, next(it).split()))\n",
        "\n",
        "  r = np.array(r)\n",
        "  assert np.all(np.isin(r, [-1, 1])), \"Recalling patterns must be bipolar (+1 or -1).\"\n",
        "\n",
        "  theta = np.zeros((len(p[0]))) #We chose to set the thetas to 0\n",
        "  EnergyList = []\n",
        "  return p, r, theta, EnergyList\n",
        "\n",
        "def learn(p):\n",
        "  w = np.zeros((len(p[0]), len(p[0])))\n",
        "\n",
        "  for q in p:\n",
        "    v = np.outer(q, q)\n",
        "    np.fill_diagonal(v, 0)\n",
        "    w += v\n",
        "\n",
        "  assert np.array_equal(w, w.T), \"Weight matrix must be symmetric.\"\n",
        "\n",
        "  return w\n",
        "\n",
        "def recall(w, input, theta, EnergyList):\n",
        "  X = input\n",
        "  t = 0\n",
        "  for _ in range(1000): #to prevent infinite loop with while(True)\n",
        "    print(f\"X(t = {t}): \", end='')\n",
        "    printOutput(X, w, theta, EnergyList)\n",
        "    t += 1\n",
        "\n",
        "    Xt_plus1 = X.copy()\n",
        "    for k in rng.permutation(len(X)): #random order of asynchronous updates\n",
        "      if np.dot(w[k], X) > theta[k]:\n",
        "        Xt_plus1[k] = 1\n",
        "      else:\n",
        "        Xt_plus1[k] = -1\n",
        "    if np.array_equal(Xt_plus1, X):\n",
        "      break\n",
        "    X = Xt_plus1\n",
        "\n",
        "  return X\n",
        "\n",
        "def printOutput(a, w, theta, EnergyList):\n",
        "  if len(a) < 101:\n",
        "    for i in a:\n",
        "      if i == 1:\n",
        "        print('+', end='') #end='' prevents newline\n",
        "      else:\n",
        "        print('-', end='')\n",
        "    print('')\n",
        "  else:\n",
        "    E = -0.5 * np.dot(a.T, np.dot(w, a)) + np.dot(theta.T, a)\n",
        "    EnergyList.append(E)\n",
        "    print(\"E = \" + str(E))\n",
        "\n",
        "def run(p, r, theta, EnergyList):\n",
        "  w = learn(p)\n",
        "  result = recall(w, r, theta, EnergyList)\n",
        "  print(\"Result: \", end='')\n",
        "  printOutput(result, w, theta, EnergyList)\n",
        "  if len(p[0]) > 100:\n",
        "    plt.plot(range(len(EnergyList)), EnergyList)\n",
        "\n",
        "p, r, theta, EnergyList = loadData(\"PA-E_train_1.txt\", \"PA-E_recall_1.txt\")\n",
        "run(p, r, theta, EnergyList)\n",
        "print(\"We see that the random pattern gets associated to all 1s which is the inverse of the learned pattern of all 0s\")\n",
        "\n",
        "p, r, theta, EnergyList = loadData(\"PA-E_train_2.txt\", \"PA-E_recall_1.txt\")\n",
        "run(p, r, theta, EnergyList)\n",
        "print(\"We see that the random pattern gets associated to the inverse of the learned random pattern\")\n",
        "\n",
        "p, r, theta, EnergyList = loadData(\"PA-E_train_3.txt\", \"PA-E_recall_2.txt\")\n",
        "run(p, r, theta, EnergyList)\n",
        "print(\"We see that the random pattern gets associated to all 0s which is included in our learned patterns\")\n",
        "\n",
        "p, r, theta, EnergyList = loadData(\"PA-E_train_3.txt\", \"PA-E_recall_3.txt\")\n",
        "run(p, r, theta, EnergyList)\n",
        "print(\"We see that this slightly modified recall pattern also gets associated to all 0s\")\n",
        "\n",
        "p, r, theta, EnergyList = loadData(\"PA-E_train_4.txt\", \"PA-E_recall_2.txt\")\n",
        "run(p, r, theta, EnergyList)\n",
        "print(\"This time we have modified the learned patterns to exclude the 0 which was the previous result, we can see that this time it gets associated to binary 3 which is also included in our learned patterns\")\n",
        "\n",
        "p, r, theta, EnergyList = loadData(\"PA-E_train_4.txt\", \"PA-E_recall_3.txt\")\n",
        "run(p, r, theta, EnergyList)\n",
        "print(\"Also tested with the slightly modified recall pattern, the result is the same\")\n",
        "\n",
        "p, r, theta, EnergyList = loadData(\"PA-E_train_4.txt\", \"PA-E_recall_4.txt\")\n",
        "run(p, r, theta, EnergyList)\n",
        "print(\"Now we are trying to recall a pattern that was not included in our learned patterns, which gives us a similar pattern from our learned ones\")\n",
        "\n",
        "p, r, theta, EnergyList = loadData(\"PA-E_train_5.txt\", \"PA-E_recall_5.txt\")\n",
        "run(p, r, theta, EnergyList)\n",
        "print(\"Now testing for K > 100, we confirm that our energy function decreases as we update\")"
      ],
      "metadata": {
        "colab": {
          "base_uri": "https://localhost:8080/",
          "height": 1000
        },
        "id": "UpiWF-t1QJeP",
        "outputId": "ea96a2fa-71d0-4436-8e75-832cb69672e7"
      },
      "execution_count": 132,
      "outputs": [
        {
          "output_type": "stream",
          "name": "stdout",
          "text": [
            "X(t = 0): ++-++++---\n",
            "X(t = 1): ++++++++++\n",
            "Result: ++++++++++\n",
            "We see that the random pattern gets associated to all 1s which is the inverse of the learned pattern of all 0s\n",
            "X(t = 0): ++-++++---\n",
            "X(t = 1): -+-+++--++\n",
            "Result: -+-+++--++\n",
            "We see that the random pattern gets associated to the inverse of the learned random pattern\n",
            "X(t = 0): --+---+---+-+-------+++++----+-----+--------------\n",
            "X(t = 1): --------------------------------------------------\n",
            "Result: --------------------------------------------------\n",
            "We see that the random pattern gets associated to all 0s which is included in our learned patterns\n",
            "X(t = 0): --+---+---+-+-------+++++----+-----+-------------+\n",
            "X(t = 1): --------------------------------------------------\n",
            "Result: --------------------------------------------------\n",
            "We see that this slightly modified recall pattern also gets associated to all 0s\n",
            "X(t = 0): --+---+---+-+-------+++++----+-----+--------------\n",
            "X(t = 1): ------------------------------------------------++\n",
            "Result: ------------------------------------------------++\n",
            "This time we have modified the learned patterns to exclude the 0 which was the previous result, we can see that this time it gets associated to binary 3 which is also included in our learned patterns\n",
            "X(t = 0): --+---+---+-+-------+++++----+-----+-------------+\n",
            "X(t = 1): ------------------------------------------------++\n",
            "Result: ------------------------------------------------++\n",
            "Also tested with the slightly modified recall pattern, the result is the same\n",
            "X(t = 0): -----------------------------------------------+-+\n",
            "X(t = 1): --------------------------------------------------\n",
            "X(t = 2): ------------------------------------------------++\n",
            "Result: ------------------------------------------------++\n",
            "Now we are trying to recall a pattern that was not included in our learned patterns, which gives us a similar pattern from our learned ones\n",
            "X(t = 0): E = -76830.0\n",
            "X(t = 1): E = -77614.0\n",
            "X(t = 2): E = -77622.0\n",
            "Result: E = -77622.0\n",
            "Now testing for K > 100, we confirm that our energy function decreases as we converge\n"
          ]
        },
        {
          "output_type": "display_data",
          "data": {
            "text/plain": [
              "<Figure size 640x480 with 1 Axes>"
            ],
            "image/png": "[encoded data removed]"
          },
          "metadata": {}
        }
      ]
    }
  ]
}